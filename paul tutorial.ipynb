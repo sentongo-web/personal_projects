{
 "cells": [
  {
   "cell_type": "markdown",
   "metadata": {},
   "source": [
    "How to get Yesterday’s Date in Python"
   ]
  },
  {
   "cell_type": "markdown",
   "metadata": {},
   "source": [
    "#### Introduction\n",
    "Have you ever needed to get yesterday’s date in Python? If so, you might have found yourself wondering how to accomplish this. In this blog post, we will discuss how to get yesterday’s date using Python.\n",
    "\n",
    "Knowing how to get yesterday’s date can be important in many situations. For example, if you are working with time-sensitive data and need to retrieve data from the previous day, or if you need to schedule recurring tasks that should run based on the previous day’s date. Whatever the reason may be, understanding how to get yesterday’s date is a useful skill for any Python programmer.\n",
    "\n",
    "Let’s dive into how to get yesterday’s date with some examples!\n",
    "\n",
    "Using datetime module\n",
    "To get yesterday’s date in Python, we can use the `datetime` module. Here’s how to do it:\n",
    "\n",
    "First, we need to import the `datetime` module using the `import` statement:"
   ]
  },
  {
   "cell_type": "code",
   "execution_count": 1,
   "metadata": {},
   "outputs": [],
   "source": [
    "import datetime"
   ]
  },
  {
   "cell_type": "markdown",
   "metadata": {},
   "source": [
    "Next, we need to create a `date` object for today’s date using the `today()` method of the `date` class:"
   ]
  },
  {
   "cell_type": "code",
   "execution_count": 2,
   "metadata": {},
   "outputs": [],
   "source": [
    "today = datetime.date.today()"
   ]
  },
  {
   "cell_type": "markdown",
   "metadata": {},
   "source": [
    "Now that we have today’s date, we can subtract one day from it to get yesterday’s date using the `timedelta` function:"
   ]
  },
  {
   "cell_type": "code",
   "execution_count": 3,
   "metadata": {},
   "outputs": [],
   "source": [
    "one_day = datetime.timedelta(days=1)\n",
    "yesterday = today - one_day"
   ]
  },
  {
   "cell_type": "markdown",
   "metadata": {},
   "source": [
    "Finally, we can format yesterday’s date as a string using the `strftime()` method of the `date` class:\n",
    "\n"
   ]
  },
  {
   "cell_type": "code",
   "execution_count": 4,
   "metadata": {},
   "outputs": [],
   "source": [
    "yesterday_str = yesterday.strftime('%Y-%m-%d')"
   ]
  },
  {
   "cell_type": "markdown",
   "metadata": {},
   "source": [
    "This will give us yesterday’s date in the format `YYYY-MM-DD`. Of course, you can use a different format string if you prefer a different format.\n",
    "\n",
    "Using timedelta object\n",
    "To get yesterday’s date in Python, you can use the timedelta object from the datetime module. Here’s how:"
   ]
  },
  {
   "cell_type": "code",
   "execution_count": 6,
   "metadata": {},
   "outputs": [
    {
     "name": "stdout",
     "output_type": "stream",
     "text": [
      "2024-04-09\n"
     ]
    }
   ],
   "source": [
    "import datetime\n",
    "\n",
    "# create a timedelta object representing one day\n",
    "one_day = datetime.timedelta(days=1)\n",
    "\n",
    "# subtract one day from today's date using the timedelta object\n",
    "yesterday = datetime.date.today() - one_day\n",
    "\n",
    "# format yesterday's date as a string\n",
    "yesterday_string = yesterday.strftime('%Y-%m-%d')\n",
    "\n",
    "print(yesterday_string) # output: 2024-04-09"
   ]
  },
  {
   "cell_type": "markdown",
   "metadata": {},
   "source": [
    "In the code above, we first import the datetime module. We then create a timedelta object called `one_day` by passing `days=1` as an argument. This represents one day.\n",
    "\n",
    "Next, we subtract `one_day` from today’s date using the `-` operator. This gives us yesterday’s date, which we store in the variable `yesterday`.\n",
    "\n",
    "Finally, we format `yesterday` as a string using the `strftime()` method and the `%Y-%m-%d` format string. This gives us a string in the format “YYYY-MM-DD”, which is a commonly used date format.\n",
    "\n",
    "By using the timedelta object and simple arithmetic, we can easily get yesterday’s date in Python.\n",
    "\n",
    "Conclusion\n",
    "In conclusion, getting yesterday’s date in Python is a simple task that can be accomplished using the datetime module. We first import the module and then use the timedelta function to subtract a day from today’s date. The resulting date object can be formatted into a string using strftime function with the desired format.\n",
    "\n",
    "It is important to note that the datetime module provides a lot of flexibility in working with dates and times in Python. We can perform various operations on dates, such as addition, subtraction, comparison, and formatting. Additionally, we can use the module to work with time zones and perform calculations with dates and times across different time zones.\n",
    "\n",
    "In summary, knowing how to get yesterday’s date in Python is a useful skill that can come in handy when working with dates and times in applications. The datetime module provides a powerful set of tools for working with dates and times, making it an essential tool for any Python programmer."
   ]
  }
 ],
 "metadata": {
  "kernelspec": {
   "display_name": "base",
   "language": "python",
   "name": "python3"
  },
  "language_info": {
   "codemirror_mode": {
    "name": "ipython",
    "version": 3
   },
   "file_extension": ".py",
   "mimetype": "text/x-python",
   "name": "python",
   "nbconvert_exporter": "python",
   "pygments_lexer": "ipython3",
   "version": "3.11.7"
  }
 },
 "nbformat": 4,
 "nbformat_minor": 2
}
