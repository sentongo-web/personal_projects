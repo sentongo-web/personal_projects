{
 "cells": [
  {
   "cell_type": "code",
   "execution_count": 2,
   "metadata": {},
   "outputs": [
    {
     "name": "stdout",
     "output_type": "stream",
     "text": [
      "STUDENTS GRADE CALCULATOR\n"
     ]
    }
   ],
   "source": [
    "print(\"STUDENTS GRADE CALCULATOR\")\n",
    "# Function to calculate the average grade for a student\n",
    "def calculate_average(grades):\n",
    "    total = sum(grades)\n",
    "    return total / len(grades)\n",
    "\n",
    "# Function to display the average grade for each student and the overall average grade for the class\n",
    "def display_results(average_grades):\n",
    "    print(\"\\n=== Student Grade Calculator ===\")\n",
    "    for i, avg_grade in enumerate(average_grades):\n",
    "        print(f\"\\nStudent {i + 1}:\")\n",
    "        print(f\"Average grade: {avg_grade:.2f}\")\n",
    "    overall_average = sum(average_grades) / len(average_grades)\n",
    "    print(f\"\\nOverall Average Grade for the class: {overall_average:.2f}\")\n",
    "\n",
    "# Main function\n",
    "def main():\n",
    "    num_students = int(input(\"Enter the number of students: \"))\n",
    "    average_grades = []\n",
    "\n",
    "    for i in range(num_students):\n",
    "        grades = input(f\"\\nEnter grades for Student {i + 1} separated by spaces: \").split()\n",
    "        grades = [int(grade) for grade in grades]  # Convert grades to integers\n",
    "        avg_grade = calculate_average(grades)\n",
    "        average_grades.append(avg_grade)\n",
    "        print(f\"Average grade for Student {i + 1}: {avg_grade:.2f}\")\n",
    "\n",
    "    display_results(average_grades)\n",
    "\n",
    "if __name__ == \"__main__\":\n",
    "    main()\n"
   ]
  }
 ],
 "metadata": {
  "kernelspec": {
   "display_name": "Python 3",
   "language": "python",
   "name": "python3"
  },
  "language_info": {
   "codemirror_mode": {
    "name": "ipython",
    "version": 3
   },
   "file_extension": ".py",
   "mimetype": "text/x-python",
   "name": "python",
   "nbconvert_exporter": "python",
   "pygments_lexer": "ipython3",
   "version": "3.12.3"
  }
 },
 "nbformat": 4,
 "nbformat_minor": 2
}
