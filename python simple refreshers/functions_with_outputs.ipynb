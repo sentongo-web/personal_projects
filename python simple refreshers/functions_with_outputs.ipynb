{
 "cells": [
  {
   "cell_type": "markdown",
   "metadata": {},
   "source": [
    "## Today lets refresh about functions with outputs."
   ]
  },
  {
   "cell_type": "code",
   "execution_count": 1,
   "metadata": {},
   "outputs": [
    {
     "data": {
      "text/plain": [
       "6"
      ]
     },
     "execution_count": 1,
     "metadata": {},
     "output_type": "execute_result"
    }
   ],
   "source": [
    "def my_function ():\n",
    "    result = 3 * 2\n",
    "    return result\n",
    "my_function()"
   ]
  },
  {
   "cell_type": "code",
   "execution_count": 2,
   "metadata": {},
   "outputs": [
    {
     "name": "stdout",
     "output_type": "stream",
     "text": [
      "Paul\n",
      "Sentongo\n"
     ]
    }
   ],
   "source": [
    "### convert string to title case\n",
    "def format_name (f_name, l_name):\n",
    "    \"\"\" This function takes the first name and the last name\n",
    "    and formats their title cases\"\"\"\n",
    "    print (f_name.title())\n",
    "    print (l_name.title())\n",
    "format_name (\"PAUL\", \"SenTongo\")\n"
   ]
  },
  {
   "cell_type": "code",
   "execution_count": 3,
   "metadata": {},
   "outputs": [],
   "source": [
    "# #Functions with Outputs\n",
    "# def format_name(f_name, l_name):\n",
    "#   if f_name == \"\" or l_name == \"\":\n",
    "#     return \"You didn't provide valid inputs.\"\n",
    "#   formated_f_name = f_name.title()\n",
    "#   formated_l_name = l_name.title()\n",
    "#   f\"Result: {formated_f_name} {formated_l_name}\"\n",
    "\n",
    "# #Storing output in a variable\n",
    "# formatted_name = format_name(input(\"Your first name: \"), input(\"Your last name: \"))\n",
    "# print(formatted_name)\n",
    "# #or printing output directly\n",
    "# print(format_name(input(\"What is your first name? \"), input(\"What is your last name? \")))\n",
    "\n",
    "# #Already used functions with outputs.\n",
    "# length = len(formatted_name)\n",
    "\n",
    "# #Return as an early exit\n",
    "# def format_name(f_name, l_name):\n",
    "#   \"\"\"Take a first and last name and format it \n",
    "#   to return the title case version of the name.\"\"\"\n",
    "#   if f_name == \"\" or l_name == \"\":\n",
    "#     return \"You didn't provide valid inputs.\"\n",
    "#   formated_f_name = f_name.title()\n",
    "#   formated_l_name = l_name.title()\n",
    "#   return f\"Result: {formated_f_name} {formated_l_name}\""
   ]
  },
  {
   "cell_type": "markdown",
   "metadata": {},
   "source": [
    "#### Instructions\n",
    "Convert the is_leap() functtion\n",
    "In the starting code, you'll find the solution from the Leap Year challenge. First, convert this function is_leap() so that instead of printing \"Leap year.\" or \"Not leap year.\" it should return True if it is a leap year and return False if it is not a leap year.\n",
    "\n",
    "Create a new function called days_in_month()\n",
    "You are then going to modify a function called days_in_month() which will take a year and a month as inputs, e.g.\n",
    "\n",
    "days_in_month(year=2022, month=2)\n",
    "And it will use this information to work out if the year is a leap year and decide the number of days in the month, then return that as the output, e.g.:\n",
    "\n",
    "28\n",
    "The List month_days contains the number of days in a month from January to December for a non-leap year. A leap year has 29 days in February.\n",
    "\n",
    "Hint\n",
    "Look at the function call at the bottom of the code to see the positional arguments. The order is very important.\n",
    "\n",
    "Feel free to choose your own parameter names.\n",
    "\n",
    "Remember that month_days is a List and Lists in Python start at position 0. So the number of days in January is month_days[0]\n",
    "\n",
    "Be careful with indentation.\n"
   ]
  },
  {
   "cell_type": "code",
   "execution_count": 4,
   "metadata": {},
   "outputs": [
    {
     "name": "stdout",
     "output_type": "stream",
     "text": [
      "30\n"
     ]
    }
   ],
   "source": [
    "def is_leap(year):\n",
    "  if year % 4 == 0:\n",
    "    if year % 100 == 0:\n",
    "      if year % 400 == 0:\n",
    "        return True\n",
    "      else:\n",
    "        return False\n",
    "    else:\n",
    "      return True\n",
    "  else:\n",
    "    return False\n",
    "#function for the months\n",
    "def days_in_month(year, month):\n",
    "  month_days = [31, 28, 31, 30, 31, 30, 31, 31, 30, 31, 30, 31]\n",
    "  if month == 2 and is_leap(year):\n",
    "    return 29\n",
    "  else:\n",
    "    return month_days[month - 1] \n",
    "year = int(input()) # Enter a year\n",
    "month = int(input()) # Enter a month\n",
    "days = days_in_month(year, month)\n",
    "print(days)"
   ]
  }
 ],
 "metadata": {
  "kernelspec": {
   "display_name": "Python 3",
   "language": "python",
   "name": "python3"
  },
  "language_info": {
   "codemirror_mode": {
    "name": "ipython",
    "version": 3
   },
   "file_extension": ".py",
   "mimetype": "text/x-python",
   "name": "python",
   "nbconvert_exporter": "python",
   "pygments_lexer": "ipython3",
   "version": "3.11.9"
  }
 },
 "nbformat": 4,
 "nbformat_minor": 2
}
