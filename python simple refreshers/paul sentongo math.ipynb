{
 "cells": [
  {
   "cell_type": "code",
   "execution_count": 1,
   "metadata": {},
   "outputs": [],
   "source": [
    "# Importing numpy library\n",
    "import numpy as np"
   ]
  },
  {
   "cell_type": "markdown",
   "metadata": {},
   "source": [
    "# QUESTION 1 (a)\n",
    "# (i) the determinant |A|."
   ]
  },
  {
   "cell_type": "code",
   "execution_count": 2,
   "metadata": {},
   "outputs": [
    {
     "name": "stdout",
     "output_type": "stream",
     "text": [
      "The Determinant of a given lower triangular matrix is : 16\n"
     ]
    }
   ],
   "source": [
    "A = np.array([\n",
    "    [-2, 0, 0, 0],\n",
    "    [0, -2, 0, 0],\n",
    "    [24, -12, 2, 0],\n",
    "    [0, 0, 0, 2]])\n",
    "\n",
    "# The Determinant of a lower triangular matrix 4x4 is the product of its diagonal elements.\n",
    "# Computing the determinant as the product of the diagonal elements.\n",
    "Determinant = round(np.linalg.det(A))\n",
    "print(\"The Determinant of a given lower triangular matrix is :\", Determinant)"
   ]
  },
  {
   "cell_type": "markdown",
   "metadata": {},
   "source": [
    "# QUESTION 1 (a) (ii)\n",
    "# Calculating the inverse A−1. of the dataset provided"
   ]
  },
  {
   "cell_type": "code",
   "execution_count": 3,
   "metadata": {},
   "outputs": [
    {
     "name": "stdout",
     "output_type": "stream",
     "text": [
      "The Inverse of a given lower triangular matrix is : \n",
      " [[-0.5  0.   0.   0. ]\n",
      " [-0.  -0.5 -0.  -0. ]\n",
      " [ 6.  -3.   0.5  0. ]\n",
      " [ 0.   0.   0.   0.5]]\n"
     ]
    }
   ],
   "source": [
    "InvMatrix = np.linalg.inv(A)\n",
    "print(f'The Inverse of a given lower triangular matrix is : \\n {InvMatrix}')"
   ]
  },
  {
   "cell_type": "markdown",
   "metadata": {},
   "source": [
    "# QUESTION 1 (a)(iii) \n",
    "# The diagonalizable matrix D similar to A.\n",
    "# Calculating the eigenvalues and eigenvectors of Matrix A"
   ]
  },
  {
   "cell_type": "code",
   "execution_count": 5,
   "metadata": {},
   "outputs": [
    {
     "name": "stdout",
     "output_type": "stream",
     "text": [
      "Given Lower Triangular Matrix A:\n",
      "[[ -2   0   0   0]\n",
      " [  0  -2   0   0]\n",
      " [ 24 -12   2   0]\n",
      " [  0   0   0   2]]\n",
      "\n",
      "Diagonal Matrix D:\n",
      "[[ 2.  0.  0.  0.]\n",
      " [ 0. -2.  0.  0.]\n",
      " [ 0.  0. -2.  0.]\n",
      " [ 0.  0.  0.  2.]]\n",
      "\n",
      "Matrix P:\n",
      "[[ 0.          0.16439899  0.          0.        ]\n",
      " [ 0.          0.          0.31622777  0.        ]\n",
      " [ 1.         -0.98639392  0.9486833   0.        ]\n",
      " [ 0.          0.          0.          1.        ]]\n",
      "\n",
      "D is similar to A: True\n"
     ]
    }
   ],
   "source": [
    "EVal, EVec = np.linalg.eig(A)\n",
    "\n",
    "# Create the diagonal matrix D from the eigenvalues\n",
    "D = np.diag(EVal)\n",
    "\n",
    "# Invert the matrix of eigenvectors to obtain P^(-1)\n",
    "PInv = np.linalg.inv(EVec)\n",
    "\n",
    "# P is the matrix of eigenvectors\n",
    "P = EVec  \n",
    "\n",
    "# Checking to find out if D is similar to A\n",
    "Same = np.allclose(D, PInv @ A @ P)\n",
    "\n",
    "print(\"Given Lower Triangular Matrix A:\")\n",
    "print(A)\n",
    "print(\"\\nDiagonal Matrix D:\")\n",
    "print(D)\n",
    "print(\"\\nMatrix P:\")\n",
    "print(P)\n",
    "print(\"\\nD is similar to A:\", Same)"
   ]
  }
 ],
 "metadata": {
  "kernelspec": {
   "display_name": "Python 3",
   "language": "python",
   "name": "python3"
  },
  "language_info": {
   "codemirror_mode": {
    "name": "ipython",
    "version": 3
   },
   "file_extension": ".py",
   "mimetype": "text/x-python",
   "name": "python",
   "nbconvert_exporter": "python",
   "pygments_lexer": "ipython3",
   "version": "3.11.3"
  }
 },
 "nbformat": 4,
 "nbformat_minor": 2
}
