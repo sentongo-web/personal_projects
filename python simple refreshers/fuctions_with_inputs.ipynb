{
 "cells": [
  {
   "cell_type": "code",
   "execution_count": 3,
   "metadata": {},
   "outputs": [
    {
     "name": "stdout",
     "output_type": "stream",
     "text": [
      "Hello\n",
      "How do you do?\n",
      "Isnt the weather nice today?\n"
     ]
    }
   ],
   "source": [
    "# Simple function\n",
    "def greet ():\n",
    "    print (\"Hello\")\n",
    "    print (\"How do you do?\")\n",
    "    print (\"Isnt the weather nice today?\")\n",
    "    \n",
    "greet ()"
   ]
  },
  {
   "cell_type": "code",
   "execution_count": 8,
   "metadata": {},
   "outputs": [
    {
     "name": "stdout",
     "output_type": "stream",
     "text": [
      "Hello Angella?\n",
      "How do you do Angella?\n"
     ]
    }
   ],
   "source": [
    "#Fuction with inputs\n",
    "def greet_with_name (name):\n",
    "    print (f\"Hello {name}?\")\n",
    "    print (f\"How do you do {name}?\")\n",
    "\n",
    "greet_with_name(\"Angella\")"
   ]
  },
  {
   "cell_type": "code",
   "execution_count": 9,
   "metadata": {},
   "outputs": [
    {
     "name": "stdout",
     "output_type": "stream",
     "text": [
      "Hello Alex\n",
      "How is Berlin\n"
     ]
    }
   ],
   "source": [
    "#Functions with more than one input\n",
    "#Function to take name and location\n",
    "def greet_with (name, location):\n",
    "    print (f\"Hello {name}\")\n",
    "    print (f\"How is {location}\")\n",
    "    \n",
    "greet_with (\"Alex\", \"Berlin\")"
   ]
  },
  {
   "cell_type": "markdown",
   "metadata": {},
   "source": [
    "### Instructions\n",
    "You are painting a wall. The instructions on the paint can says that 1 can of paint can cover 5 square meters of wall. Given a random height and width of wall, calculate how many cans of paint you'll need to buy.\n",
    "\n",
    "number of cans = (wall height x wall width) ÷ coverage per can.\n",
    "\n",
    "e.g. Height = 2, Width = 4, Coverage = 5\n",
    "\n",
    "number of cans = (2 * 4) / 5\n",
    "               = 1.6\n",
    "But because you can't buy 0.6 of a can of paint, the result should be rounded up to 2 cans.\n",
    "\n",
    "IMPORTANT: Notice the name of the function and parameters must match those on line 13 for the code to work.\n",
    "\n",
    "Example Input\n",
    "3\n",
    "9\n",
    "Example Output\n",
    "You'll need 6 cans of paint."
   ]
  },
  {
   "cell_type": "code",
   "execution_count": 10,
   "metadata": {},
   "outputs": [
    {
     "name": "stdout",
     "output_type": "stream",
     "text": [
      "You'll need 6 cans of paint.\n"
     ]
    },
    {
     "ename": "",
     "evalue": "",
     "output_type": "error",
     "traceback": [
      "\u001b[1;31mThe Kernel crashed while executing code in the current cell or a previous cell. \n",
      "\u001b[1;31mPlease review the code in the cell(s) to identify a possible cause of the failure. \n",
      "\u001b[1;31mClick <a href='https://aka.ms/vscodeJupyterKernelCrash'>here</a> for more info. \n",
      "\u001b[1;31mView Jupyter <a href='command:jupyter.viewOutput'>log</a> for further details."
     ]
    }
   ],
   "source": [
    "import math\n",
    "\n",
    "def paint_calc(height, width, cover):\n",
    "  num_cans = (height * width) / cover\n",
    "  round_up_cans = math.ceil(num_cans)\n",
    "  print(f\"You'll need {round_up_cans} cans of paint.\")\n",
    "  \n",
    "test_h = int(input()) # Height of wall (m)\n",
    "test_w = int(input()) # Width of wall (m)\n",
    "coverage = 5\n",
    "paint_calc(height=test_h, width=test_w, cover=coverage)"
   ]
  }
 ],
 "metadata": {
  "kernelspec": {
   "display_name": "Python 3",
   "language": "python",
   "name": "python3"
  },
  "language_info": {
   "codemirror_mode": {
    "name": "ipython",
    "version": 3
   },
   "file_extension": ".py",
   "mimetype": "text/x-python",
   "name": "python",
   "nbconvert_exporter": "python",
   "pygments_lexer": "ipython3",
   "version": "3.12.3"
  }
 },
 "nbformat": 4,
 "nbformat_minor": 2
}
