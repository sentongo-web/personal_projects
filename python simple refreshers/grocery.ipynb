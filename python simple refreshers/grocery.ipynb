{
 "cells": [
  {
   "cell_type": "code",
   "execution_count": 1,
   "metadata": {},
   "outputs": [
    {
     "name": "stdout",
     "output_type": "stream",
     "text": [
      "Welcome to My Grocery Shopping List\n",
      "1. Add item to the list\n",
      "2. Remove item from the list\n",
      "3. View shopping list\n",
      "4. Check if item is on the list\n",
      "5. Clear shopping list\n",
      "6. Exit\n"
     ]
    }
   ],
   "source": [
    "# Function to display the menu\n",
    "def display_menu():\n",
    "    print(\"Welcome to My Grocery Shopping List\")\n",
    "    print(\"1. Add item to the list\")\n",
    "    print(\"2. Remove item from the list\")\n",
    "    print(\"3. View shopping list\")\n",
    "    print(\"4. Check if item is on the list\")\n",
    "    print(\"5. Clear shopping list\")\n",
    "    print(\"6. Exit\")\n",
    "\n",
    "# Function to add items to the shopping list\n",
    "def add_item(item, shopping_list):\n",
    "    shopping_list.append(item)\n",
    "    print(f\"{item} added to the shopping list.\")\n",
    "\n",
    "# Function to remove an item from the shopping list\n",
    "def remove_item(item, shopping_list):\n",
    "    if item in shopping_list:\n",
    "        shopping_list.remove(item)\n",
    "        print(f\"{item} removed from the shopping list.\")\n",
    "    else:\n",
    "        print(f\"{item} is not in the shopping list.\")\n",
    "\n",
    "# Function to view the current shopping list\n",
    "def view_list(shopping_list):\n",
    "    if shopping_list:\n",
    "        print(\"Shopping List:\")\n",
    "        for item in shopping_list:\n",
    "            print(f\"- {item}\")\n",
    "    else:\n",
    "        print(\"The shopping list is empty.\")\n",
    "\n",
    "# Function to check if an item is on the shopping list\n",
    "def check_item(item, shopping_list):\n",
    "    if item in shopping_list:\n",
    "        print(f\"Yes, {item} is on the shopping list.\")\n",
    "    else:\n",
    "        print(f\"No, {item} is not on the shopping list.\")\n",
    "\n",
    "# Function to clear the shopping list\n",
    "def clear_list(shopping_list):\n",
    "    shopping_list.clear()\n",
    "    print(\"Shopping list cleared.\")\n",
    "\n",
    "# Main function to run the program\n",
    "def main():\n",
    "    shopping_list = []\n",
    "    while True:\n",
    "        display_menu()\n",
    "        choice = input(\"Enter your choice (1-6): \")\n",
    "        \n",
    "        if choice == '1':\n",
    "            item = input(\"Enter the item to add: \")\n",
    "            add_item(item, shopping_list)\n",
    "        elif choice == '2':\n",
    "            item = input(\"Enter the item to remove: \")\n",
    "            remove_item(item, shopping_list)\n",
    "        elif choice == '3':\n",
    "            view_list(shopping_list)\n",
    "        elif choice == '4':\n",
    "            item = input(\"Enter the item to check: \")\n",
    "            check_item(item, shopping_list)\n",
    "        elif choice == '5':\n",
    "            clear_list(shopping_list)\n",
    "        elif choice == '6':\n",
    "            print(\"Exiting the program.\")\n",
    "            break\n",
    "        else:\n",
    "            print(\"Invalid choice. Please enter a number between 1 and 6.\")\n",
    "\n",
    "if __name__ == \"__main__\":\n",
    "    main()\n"
   ]
  }
 ],
 "metadata": {
  "kernelspec": {
   "display_name": "Python 3",
   "language": "python",
   "name": "python3"
  },
  "language_info": {
   "codemirror_mode": {
    "name": "ipython",
    "version": 3
   },
   "file_extension": ".py",
   "mimetype": "text/x-python",
   "name": "python",
   "nbconvert_exporter": "python",
   "pygments_lexer": "ipython3",
   "version": "3.12.3"
  }
 },
 "nbformat": 4,
 "nbformat_minor": 2
}
