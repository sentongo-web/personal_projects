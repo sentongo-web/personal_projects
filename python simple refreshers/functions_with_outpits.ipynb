{
 "cells": [
  {
   "cell_type": "code",
   "execution_count": 1,
   "id": "initial_id",
   "metadata": {
    "ExecuteTime": {
     "end_time": "2024-05-10T07:55:41.043927Z",
     "start_time": "2024-05-10T07:55:33.675812Z"
    },
    "collapsed": true
   },
   "outputs": [
    {
     "name": "stdout",
     "output_type": "stream",
     "text": [
      "31\n"
     ]
    }
   ],
   "source": [
    "def is_leap(year):\n",
    "  if year % 4 == 0:\n",
    "    if year % 100 == 0:\n",
    "      if year % 400 == 0:\n",
    "        return True\n",
    "      else:\n",
    "        return False\n",
    "    else:\n",
    "      return True\n",
    "  else:\n",
    "    return False\n",
    "#function for the months\n",
    "def days_in_month(year, month):\n",
    "  month_days = [31, 28, 31, 30, 31, 30, 31, 31, 30, 31, 30, 31]\n",
    "  if month == 2 and is_leap(year):\n",
    "    return 29\n",
    "  else:\n",
    "    return month_days[month - 1] \n",
    "year = int(input()) # Enter a year\n",
    "month = int(input()) # Enter a month\n",
    "days = days_in_month(year, month)\n",
    "print(days)"
   ]
  },
  {
   "cell_type": "code",
   "execution_count": 3,
   "id": "cfa35fd40148f9ff",
   "metadata": {
    "ExecuteTime": {
     "end_time": "2024-05-10T08:43:37.048942Z",
     "start_time": "2024-05-10T08:43:27.734572Z"
    }
   },
   "outputs": [
    {
     "name": "stdout",
     "output_type": "stream",
     "text": [
      "+\n",
      "-\n",
      "*\n",
      "/\n",
      "56 + 34 = 90\n"
     ]
    }
   ],
   "source": [
    "### calculator in python\n",
    "## add\n",
    "def add(n1, n2):\n",
    "    return n1 + n2\n",
    "\n",
    "## subtraction\n",
    "def subtract(n1, n2):\n",
    "    return n1 - n2\n",
    "\n",
    "## multiplication\n",
    "def multiply(n1, n2):\n",
    "    return n1 * n2\n",
    "\n",
    "## Division\n",
    "def divide(n1, n2):\n",
    "    return n1 / n2\n",
    "\n",
    "### create a dictionary named operations where keys are operator symbols and the values are the names of the functions.\n",
    "\n",
    "operations = {\n",
    "    \"+\": add,\n",
    "    \"-\": subtract,\n",
    "    \"*\": multiply,\n",
    "    \"/\": divide\n",
    "}\n",
    "\n",
    "num1 = int(input(\"What is your first number?: \"))\n",
    "for symbol in operations:\n",
    "    print(symbol)\n",
    "operation_symbol = input(\"Pick an operation from the line above: \")\n",
    "num2 = int(input(\"What is your second number?: \"))\n",
    "calculation_function = operations[operation_symbol]\n",
    "answer = calculation_function(num1, num2)\n",
    "\n",
    "print(f\"{num1} {operation_symbol} {num2} = {answer}\")\n"
   ]
  },
  {
   "cell_type": "code",
   "execution_count": 5,
   "id": "6013d072522c1302",
   "metadata": {
    "ExecuteTime": {
     "end_time": "2024-05-10T09:11:00.034219Z",
     "start_time": "2024-05-10T09:11:00.010758Z"
    }
   },
   "outputs": [
    {
     "data": {
      "text/plain": [
       "264"
      ]
     },
     "execution_count": 5,
     "metadata": {},
     "output_type": "execute_result"
    }
   ],
   "source": [
    "33*8"
   ]
  },
  {
   "cell_type": "code",
   "execution_count": null,
   "id": "e4b45335b67ec7c",
   "metadata": {},
   "outputs": [],
   "source": []
  }
 ],
 "metadata": {
  "kernelspec": {
   "display_name": "Python 3",
   "language": "python",
   "name": "python3"
  },
  "language_info": {
   "codemirror_mode": {
    "name": "ipython",
    "version": 2
   },
   "file_extension": ".py",
   "mimetype": "text/x-python",
   "name": "python",
   "nbconvert_exporter": "python",
   "pygments_lexer": "ipython2",
   "version": "2.7.6"
  }
 },
 "nbformat": 4,
 "nbformat_minor": 5
}
