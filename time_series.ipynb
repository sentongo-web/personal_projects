{
 "cells": [
  {
   "cell_type": "markdown",
   "metadata": {},
   "source": [
    "## Plotting Time Series in Python: PAUL SENTONGO"
   ]
  },
  {
   "cell_type": "markdown",
   "metadata": {},
   "source": [
    "##### Introduction\n",
    "Time series data is a type of data that is collected over time at regular intervals. It can be used to analyze trends, patterns, and behaviors over time. In order to effectively analyze time series data, it is important to visualize it in a way that is easy to understand. This is where plotting comes in.\n",
    "\n",
    "Python has several libraries that can be used for plotting time series data, including Matplotlib, Seaborn, and Pandas. These libraries provide a variety of tools for creating different types of visualizations such as line graphs, scatter plots, histograms, and more.\n",
    "\n",
    "In this guide, we will cover the basics of plotting time series data using Matplotlib and Pandas. We will start with a brief overview of these libraries and then move on to some examples of how to plot time series data using each one. By the end of this guide, you should have a solid understanding of how to create effective visualizations of time series data in Python.\n",
    "\n",
    "What is a Time Series?\n",
    "A time series is a sequence of data points that are indexed in time order. It is a dataset where each observation corresponds to a specific point in time. Time series can be found in various fields such as economics, finance, weather forecasting, and more.\n",
    "\n",
    "Time series are different from other types of datasets because they exhibit temporal dependence, meaning that the value of an observation at any given time depends on its previous values. This property makes time series analysis unique and challenging, as it requires specific techniques and tools to analyze and interpret the data.\n",
    "\n",
    "In Python, there are several libraries that provide powerful tools for working with time series data. One of the most popular libraries is pandas, which provides high-performance data manipulation and analysis tools for Python. Pandas has built-in support for handling time series data and provides many functions for resampling, shifting, rolling windows, and more.\n",
    "\n",
    "To work with time series data in Python, you need to ensure that your data is properly formatted. The index of your DataFrame or Series should be a DateTimeIndex object or a PeriodIndex object if you are working with periods rather than timestamps. Once your data is properly formatted, you can start exploring and analyzing it using the various tools provided by pandas."
   ]
  },
  {
   "cell_type": "code",
   "execution_count": 1,
   "metadata": {},
   "outputs": [
    {
     "name": "stdout",
     "output_type": "stream",
     "text": [
      "            sales\n",
      "date             \n",
      "2021-01-01    100\n",
      "2021-02-01    200\n",
      "2021-03-01    150\n",
      "2021-04-01    300\n"
     ]
    }
   ],
   "source": [
    "\n",
    "import pandas as pd\n",
    "\n",
    "# create a DataFrame with a DatetimeIndex\n",
    "data = {'sales': [100, 200, 150, 300],\n",
    "        'date': ['2021-01-01', '2021-02-01', '2021-03-01', '2021-04-01']}\n",
    "df = pd.DataFrame(data)\n",
    "df['date'] = pd.to_datetime(df['date'])\n",
    "df.set_index('date', inplace=True)\n",
    "\n",
    "# print the DataFrame\n",
    "print(df)\n"
   ]
  },
  {
   "cell_type": "markdown",
   "metadata": {},
   "source": [
    "In the example above, I created a DataFrame with a DateTimeIndex and set it as the index of the DataFrame. I also converted the ‘date’ column to a datetime format using the `pd.to_datetime` function. Now that our data is properly formatted, we can use pandas to analyze and plot our time series data."
   ]
  },
  {
   "cell_type": "markdown",
   "metadata": {},
   "source": [
    "##### Importing Time Series Data into Python\n",
    "Time series data is a type of data that is collected over time and can be used to analyze trends and patterns. Python has many libraries that can be used for time series analysis, including Pandas and Matplotlib.\n",
    "\n",
    "To import time series data into Python, we first need to have the data in a format that Python can read. Common file formats for time series data include CSV, Excel, and JSON.\n",
    "\n",
    "Once we have our data in a compatible format, we can use Pandas to read it into a DataFrame. A DataFrame is a 2-dimensional table-like data structure that is used in Pandas to represent tabular data.\n",
    "\n",
    "To read CSV files, we can use the `read_csv()` function from Pandas. For example:"
   ]
  },
  {
   "cell_type": "code",
   "execution_count": null,
   "metadata": {},
   "outputs": [],
   "source": [
    "\n",
    "# import pandas as pd\n",
    "\n",
    "# df = pd.read_csv('my_time_series_data.csv')"
   ]
  },
  {
   "cell_type": "code",
   "execution_count": null,
   "metadata": {},
   "outputs": [],
   "source": [
    "# df = pd.read_excel('my_time_series_data.xlsx')"
   ]
  },
  {
   "cell_type": "code",
   "execution_count": null,
   "metadata": {},
   "outputs": [],
   "source": [
    "# df = pd.read_json('my_time_series_data.json')"
   ]
  },
  {
   "cell_type": "markdown",
   "metadata": {},
   "source": [
    "##### Cleaning and Preparing Time Series Data\n",
    "Time series data is a sequence of observations that are recorded over time. This type of data is commonly used in finance, economics, and other fields to analyze trends and make predictions. However, before we can start analyzing time series data, we need to clean and prepare it.\n",
    "\n",
    "The first step in cleaning time series data is to check for missing values. Missing values can occur due to various reasons such as equipment failure or human error. Missing values can be filled using interpolation techniques such as linear interpolation or forward filling.\n",
    "\n",
    "The next step is to check for outliers. Outliers are extreme values that can skew the analysis results. Outliers can be detected using statistical methods such as the Z-score method or the Interquartile range (IQR) method. Once outliers are detected, they can be removed or replaced with more appropriate values.\n",
    "\n",
    "After cleaning the data for missing values and outliers, we need to ensure that the data is in a format that can be analyzed using time series techniques. This includes converting the data into a datetime format, setting it as the index of the DataFrame, and resampling it if necessary.\n",
    "\n",
    "Finally, we need to ensure that the data meets the assumptions of time series analysis, which include stationarity and normality. Stationarity means that the mean and variance of the data remain constant over time. Normality means that the distribution of the data is Gaussian.\n",
    "\n",
    "In summary, cleaning and preparing time series data involves checking for missing values and outliers, formatting the data for analysis, and ensuring that it meets the assumptions of time series analysis. By taking these steps, we can ensure that our analysis results are accurate and reliable.\n",
    "\n"
   ]
  },
  {
   "cell_type": "code",
   "execution_count": 4,
   "metadata": {},
   "outputs": [
    {
     "name": "stdout",
     "output_type": "stream",
     "text": [
      "            value\n",
      "date             \n",
      "2021-01-01   10.0\n",
      "2021-01-02   10.0\n",
      "2021-01-03   20.0\n",
      "2021-01-04   20.0\n"
     ]
    },
    {
     "name": "stderr",
     "output_type": "stream",
     "text": [
      "C:\\Users\\Meddieek\\AppData\\Local\\Temp\\ipykernel_17832\\2688455530.py:11: FutureWarning: DataFrame.fillna with 'method' is deprecated and will raise in a future version. Use obj.ffill() or obj.bfill() instead.\n",
      "  df.fillna(method='ffill', inplace=True)\n"
     ]
    }
   ],
   "source": [
    "# Example code for filling missing values with forward fill\n",
    "import pandas as pd\n",
    "\n",
    "# create sample DataFrame with missing values\n",
    "df = pd.DataFrame({'date': ['2021-01-01', '2021-01-02', '2021-01-03', '2021-01-04'],\n",
    "                   'value': [10, None, 20, None]})\n",
    "df['date'] = pd.to_datetime(df['date'])\n",
    "df.set_index('date', inplace=True)\n",
    "\n",
    "# fill missing values with forward fill\n",
    "df.fillna(method='ffill', inplace=True)\n",
    "print(df)"
   ]
  }
 ],
 "metadata": {
  "kernelspec": {
   "display_name": "base",
   "language": "python",
   "name": "python3"
  },
  "language_info": {
   "codemirror_mode": {
    "name": "ipython",
    "version": 3
   },
   "file_extension": ".py",
   "mimetype": "text/x-python",
   "name": "python",
   "nbconvert_exporter": "python",
   "pygments_lexer": "ipython3",
   "version": "3.11.7"
  }
 },
 "nbformat": 4,
 "nbformat_minor": 2
}
